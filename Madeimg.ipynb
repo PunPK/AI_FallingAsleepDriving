{
 "cells": [
  {
   "cell_type": "code",
   "execution_count": 3,
   "metadata": {},
   "outputs": [
    {
     "ename": "NameError",
     "evalue": "name 'A' is not defined",
     "output_type": "error",
     "traceback": [
      "\u001b[1;31m---------------------------------------------------------------------------\u001b[0m",
      "\u001b[1;31mNameError\u001b[0m                                 Traceback (most recent call last)",
      "Cell \u001b[1;32mIn[3], line 9\u001b[0m\n\u001b[0;32m      7\u001b[0m \u001b[39m# วนลูปตามแถวข้อมูลในไฟล์ CSV\u001b[39;00m\n\u001b[0;32m      8\u001b[0m \u001b[39mfor\u001b[39;00m index, row \u001b[39min\u001b[39;00m data\u001b[39m.\u001b[39miterrows():\n\u001b[1;32m----> 9\u001b[0m     image_path \u001b[39m=\u001b[39m row[A]  \u001b[39m# ตำแหน่งของไฟล์รูปภาพ\u001b[39;00m\n\u001b[0;32m     10\u001b[0m     x \u001b[39m=\u001b[39m \u001b[39mint\u001b[39m(row[\u001b[39m'\u001b[39m\u001b[39mx\u001b[39m\u001b[39m'\u001b[39m])  \u001b[39m# ค่า x จากไฟล์ CSV\u001b[39;00m\n\u001b[0;32m     11\u001b[0m     y \u001b[39m=\u001b[39m \u001b[39mint\u001b[39m(row[\u001b[39m'\u001b[39m\u001b[39my\u001b[39m\u001b[39m'\u001b[39m])  \u001b[39m# ค่า y จากไฟล์ CSV\u001b[39;00m\n",
      "\u001b[1;31mNameError\u001b[0m: name 'A' is not defined"
     ]
    }
   ],
   "source": [
    "import pandas as pd\n",
    "import cv2\n",
    "\n",
    "# อ่านไฟล์ CSV\n",
    "data = pd.read_csv('img_pixels.csv')\n",
    "\n",
    "# วนลูปตามแถวข้อมูลในไฟล์ CSV\n",
    "for index, row in data.iterrows():\n",
    "    image_path = row[A]  # ตำแหน่งของไฟล์รูปภาพ\n",
    "    x = int(row['x'])  # ค่า x จากไฟล์ CSV\n",
    "    y = int(row['y'])  # ค่า y จากไฟล์ CSV\n",
    "\n",
    "    # อ่านรูปภาพ\n",
    "    image = cv2.imread(image_path)\n",
    "\n",
    "    # วาดจุดบนภาพ\n",
    "    cv2.circle(image, (x, y), 1, (0, 0, 255), -1)\n",
    "\n",
    "    # บันทึกภาพที่แก้ไขแล้ว\n",
    "    cv2.imwrite('output_' + str(index) + '.jpg', image)\n"
   ]
  },
  {
   "cell_type": "code",
   "execution_count": 5,
   "metadata": {},
   "outputs": [
    {
     "ename": "ValueError",
     "evalue": "not enough image data",
     "output_type": "error",
     "traceback": [
      "\u001b[1;31m---------------------------------------------------------------------------\u001b[0m",
      "\u001b[1;31mValueError\u001b[0m                                Traceback (most recent call last)",
      "Cell \u001b[1;32mIn[5], line 25\u001b[0m\n\u001b[0;32m     20\u001b[0m             image\u001b[39m.\u001b[39msave(image_path, \u001b[39m'\u001b[39m\u001b[39mJPEG\u001b[39m\u001b[39m'\u001b[39m)\n\u001b[0;32m     22\u001b[0m \u001b[39m# เรียกใช้งานฟังก์ชัน\u001b[39;00m\n\u001b[0;32m     23\u001b[0m \n\u001b[0;32m     24\u001b[0m \u001b[39m# เรียกใช้งานฟังก์ชัน\u001b[39;00m\n\u001b[1;32m---> 25\u001b[0m csv_to_image(\u001b[39m'\u001b[39;49m\u001b[39mimg_pixels.csv\u001b[39;49m\u001b[39m'\u001b[39;49m)\n",
      "Cell \u001b[1;32mIn[5], line 18\u001b[0m, in \u001b[0;36mcsv_to_image\u001b[1;34m(csv_file)\u001b[0m\n\u001b[0;32m     15\u001b[0m os\u001b[39m.\u001b[39mmakedirs(folder_name, exist_ok\u001b[39m=\u001b[39m\u001b[39mTrue\u001b[39;00m)\n\u001b[0;32m     17\u001b[0m \u001b[39m# สร้างรูปภาพจากข้อมูลและบันทึกเป็นไฟล์ .jpg\u001b[39;00m\n\u001b[1;32m---> 18\u001b[0m image \u001b[39m=\u001b[39m Image\u001b[39m.\u001b[39;49mfrombytes(\u001b[39m'\u001b[39;49m\u001b[39mRGB\u001b[39;49m\u001b[39m'\u001b[39;49m, (\u001b[39mlen\u001b[39;49m(image_data), \u001b[39m1\u001b[39;49m), image_data)\n\u001b[0;32m     19\u001b[0m image_path \u001b[39m=\u001b[39m \u001b[39mf\u001b[39m\u001b[39m\"\u001b[39m\u001b[39m{\u001b[39;00mfolder_name\u001b[39m}\u001b[39;00m\u001b[39m/\u001b[39m\u001b[39m{\u001b[39;00mfolder_name\u001b[39m}\u001b[39;00m\u001b[39m.jpg\u001b[39m\u001b[39m\"\u001b[39m\n\u001b[0;32m     20\u001b[0m image\u001b[39m.\u001b[39msave(image_path, \u001b[39m'\u001b[39m\u001b[39mJPEG\u001b[39m\u001b[39m'\u001b[39m)\n",
      "File \u001b[1;32mc:\\Users\\ASUS\\AppData\\Local\\Programs\\Python\\Python39\\lib\\site-packages\\PIL\\Image.py:2970\u001b[0m, in \u001b[0;36mfrombytes\u001b[1;34m(mode, size, data, decoder_name, *args)\u001b[0m\n\u001b[0;32m   2967\u001b[0m     args \u001b[39m=\u001b[39m mode\n\u001b[0;32m   2969\u001b[0m im \u001b[39m=\u001b[39m new(mode, size)\n\u001b[1;32m-> 2970\u001b[0m im\u001b[39m.\u001b[39;49mfrombytes(data, decoder_name, args)\n\u001b[0;32m   2971\u001b[0m \u001b[39mreturn\u001b[39;00m im\n",
      "File \u001b[1;32mc:\\Users\\ASUS\\AppData\\Local\\Programs\\Python\\Python39\\lib\\site-packages\\PIL\\Image.py:826\u001b[0m, in \u001b[0;36mImage.frombytes\u001b[1;34m(self, data, decoder_name, *args)\u001b[0m\n\u001b[0;32m    824\u001b[0m \u001b[39mif\u001b[39;00m s[\u001b[39m0\u001b[39m] \u001b[39m>\u001b[39m\u001b[39m=\u001b[39m \u001b[39m0\u001b[39m:\n\u001b[0;32m    825\u001b[0m     msg \u001b[39m=\u001b[39m \u001b[39m\"\u001b[39m\u001b[39mnot enough image data\u001b[39m\u001b[39m\"\u001b[39m\n\u001b[1;32m--> 826\u001b[0m     \u001b[39mraise\u001b[39;00m \u001b[39mValueError\u001b[39;00m(msg)\n\u001b[0;32m    827\u001b[0m \u001b[39mif\u001b[39;00m s[\u001b[39m1\u001b[39m] \u001b[39m!=\u001b[39m \u001b[39m0\u001b[39m:\n\u001b[0;32m    828\u001b[0m     msg \u001b[39m=\u001b[39m \u001b[39m\"\u001b[39m\u001b[39mcannot decode image data\u001b[39m\u001b[39m\"\u001b[39m\n",
      "\u001b[1;31mValueError\u001b[0m: not enough image data"
     ]
    }
   ],
   "source": [
    "import csv\n",
    "from PIL import Image\n",
    "\n",
    "def csv_to_image(csv_file):\n",
    "    with open(csv_file, 'r') as file:\n",
    "        reader = csv.reader(file)\n",
    "        next(reader)  # ข้ามหัวตาราง\n",
    "        \n",
    "        for row in reader:\n",
    "            image_data = bytes(row[0], encoding='utf-8')  # แปลงข้อมูลภาพเป็น bytes\n",
    "            folder_name = row[1]  # คอลัมน์ B เป็นชื่อโฟลเดอร์ที่จะบันทึก\n",
    "            \n",
    "            # สร้างโฟลเดอร์ถ้ายังไม่มี\n",
    "            import os\n",
    "            os.makedirs(folder_name, exist_ok=True)\n",
    "            \n",
    "            # สร้างรูปภาพจากข้อมูลและบันทึกเป็นไฟล์ .jpg\n",
    "            image = Image.frombytes('RGB', (len(image_data), 1), image_data)\n",
    "            image_path = f\"{folder_name}/{folder_name}.jpg\"\n",
    "            image.save(image_path, 'JPEG')\n",
    "\n",
    "# เรียกใช้งานฟังก์ชัน\n",
    "\n",
    "# เรียกใช้งานฟังก์ชัน\n",
    "csv_to_image('img_pixels.csv')"
   ]
  }
 ],
 "metadata": {
  "kernelspec": {
   "display_name": "Python 3",
   "language": "python",
   "name": "python3"
  },
  "language_info": {
   "codemirror_mode": {
    "name": "ipython",
    "version": 3
   },
   "file_extension": ".py",
   "mimetype": "text/x-python",
   "name": "python",
   "nbconvert_exporter": "python",
   "pygments_lexer": "ipython3",
   "version": "3.9.6"
  },
  "orig_nbformat": 4
 },
 "nbformat": 4,
 "nbformat_minor": 2
}
