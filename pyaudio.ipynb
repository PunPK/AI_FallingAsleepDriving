{
 "cells": [
  {
   "cell_type": "code",
   "execution_count": null,
   "metadata": {},
   "outputs": [],
   "source": [
    "import pyaudio\n",
    "import numpy as np\n",
    "\n",
    "# ค่าตั้งค่าพื้นฐานสำหรับเสียง\n",
    "duration = 3  # ระยะเวลาของเสียง (วินาที)\n",
    "sampling_rate = 44100  # อัตราการสุ่มตัวอย่างเสียง (หน่วยเป็น Hz)\n",
    "frequency = 440  # ความถี่ของเสียงที่ต้องการสร้าง (หน่วยเป็น Hz)\n",
    "\n",
    "# สร้างตัวอย่างเสียง\n",
    "samples = (np.sin(2 * np.pi * np.arange(sampling_rate * duration) * frequency / sampling_rate)).astype(np.float32)\n",
    "\n",
    "# เริ่มต้นการส่งออกเสียง\n",
    "p = pyaudio.PyAudio()\n",
    "\n",
    "stream = p.open(format=pyaudio.paFloat32,\n",
    "                channels=1,\n",
    "                rate=sampling_rate,\n",
    "                output=True)\n",
    "\n",
    "# ส่งออกเสียง\n",
    "stream.write(samples.tostring())\n",
    "\n",
    "# หยุดการส่งออกเสียง\n",
    "stream.stop_stream()\n",
    "stream.close()\n",
    "\n",
    "p.terminate()"
   ]
  },
  {
   "cell_type": "code",
   "execution_count": 26,
   "metadata": {},
   "outputs": [
    {
     "name": "stderr",
     "output_type": "stream",
     "text": [
      "\n",
      "    Error 263 for command:\n",
      "        open Test.wav\n",
      "    The specified device is not open or is not recognized by MCI.\n",
      "\n",
      "    Error 263 for command:\n",
      "        close Test.wav\n",
      "    The specified device is not open or is not recognized by MCI.\n",
      "Failed to close the file: Test.wav\n"
     ]
    },
    {
     "ename": "PlaysoundException",
     "evalue": "\n    Error 263 for command:\n        open Test.wav\n    The specified device is not open or is not recognized by MCI.",
     "output_type": "error",
     "traceback": [
      "\u001b[1;31m---------------------------------------------------------------------------\u001b[0m",
      "\u001b[1;31mPlaysoundException\u001b[0m                        Traceback (most recent call last)",
      "Cell \u001b[1;32mIn[26], line 7\u001b[0m\n\u001b[0;32m      4\u001b[0m     playsound\u001b[39m.\u001b[39mplaysound(\u001b[39m\"\u001b[39m\u001b[39mTest.wav\u001b[39m\u001b[39m\"\u001b[39m)\n\u001b[0;32m      6\u001b[0m \u001b[39m# ตัวอย่างการใช้งาน\u001b[39;00m\n\u001b[1;32m----> 7\u001b[0m play_alert_sound()\n",
      "Cell \u001b[1;32mIn[26], line 4\u001b[0m, in \u001b[0;36mplay_alert_sound\u001b[1;34m()\u001b[0m\n\u001b[0;32m      3\u001b[0m \u001b[39mdef\u001b[39;00m \u001b[39mplay_alert_sound\u001b[39m() :\n\u001b[1;32m----> 4\u001b[0m     playsound\u001b[39m.\u001b[39;49mplaysound(\u001b[39m\"\u001b[39;49m\u001b[39mTest.wav\u001b[39;49m\u001b[39m\"\u001b[39;49m)\n",
      "File \u001b[1;32mc:\\Users\\ASUS\\AppData\\Local\\Programs\\Python\\Python39\\lib\\site-packages\\playsound.py:72\u001b[0m, in \u001b[0;36m_playsoundWin\u001b[1;34m(sound, block)\u001b[0m\n\u001b[0;32m     70\u001b[0m \u001b[39mtry\u001b[39;00m:\n\u001b[0;32m     71\u001b[0m     logger\u001b[39m.\u001b[39mdebug(\u001b[39m'\u001b[39m\u001b[39mStarting\u001b[39m\u001b[39m'\u001b[39m)\n\u001b[1;32m---> 72\u001b[0m     winCommand(\u001b[39mu\u001b[39;49m\u001b[39m'\u001b[39;49m\u001b[39mopen \u001b[39;49m\u001b[39m{}\u001b[39;49;00m\u001b[39m'\u001b[39;49m\u001b[39m.\u001b[39;49mformat(sound))\n\u001b[0;32m     73\u001b[0m     winCommand(\u001b[39mu\u001b[39m\u001b[39m'\u001b[39m\u001b[39mplay \u001b[39m\u001b[39m{}\u001b[39;00m\u001b[39m{}\u001b[39;00m\u001b[39m'\u001b[39m\u001b[39m.\u001b[39mformat(sound, \u001b[39m'\u001b[39m\u001b[39m wait\u001b[39m\u001b[39m'\u001b[39m \u001b[39mif\u001b[39;00m block \u001b[39melse\u001b[39;00m \u001b[39m'\u001b[39m\u001b[39m'\u001b[39m))\n\u001b[0;32m     74\u001b[0m     logger\u001b[39m.\u001b[39mdebug(\u001b[39m'\u001b[39m\u001b[39mReturning\u001b[39m\u001b[39m'\u001b[39m)\n",
      "File \u001b[1;32mc:\\Users\\ASUS\\AppData\\Local\\Programs\\Python\\Python39\\lib\\site-packages\\playsound.py:64\u001b[0m, in \u001b[0;36m_playsoundWin.<locals>.winCommand\u001b[1;34m(*command)\u001b[0m\n\u001b[0;32m     60\u001b[0m     exceptionMessage \u001b[39m=\u001b[39m (\u001b[39m'\u001b[39m\u001b[39m\\n\u001b[39;00m\u001b[39m    Error \u001b[39m\u001b[39m'\u001b[39m \u001b[39m+\u001b[39m \u001b[39mstr\u001b[39m(errorCode) \u001b[39m+\u001b[39m \u001b[39m'\u001b[39m\u001b[39m for command:\u001b[39m\u001b[39m'\u001b[39m\n\u001b[0;32m     61\u001b[0m                         \u001b[39m'\u001b[39m\u001b[39m\\n\u001b[39;00m\u001b[39m        \u001b[39m\u001b[39m'\u001b[39m \u001b[39m+\u001b[39m command\u001b[39m.\u001b[39mdecode(\u001b[39m'\u001b[39m\u001b[39mutf-16\u001b[39m\u001b[39m'\u001b[39m) \u001b[39m+\u001b[39m\n\u001b[0;32m     62\u001b[0m                         \u001b[39m'\u001b[39m\u001b[39m\\n\u001b[39;00m\u001b[39m    \u001b[39m\u001b[39m'\u001b[39m \u001b[39m+\u001b[39m errorBuffer\u001b[39m.\u001b[39mraw\u001b[39m.\u001b[39mdecode(\u001b[39m'\u001b[39m\u001b[39mutf-16\u001b[39m\u001b[39m'\u001b[39m)\u001b[39m.\u001b[39mrstrip(\u001b[39m'\u001b[39m\u001b[39m\\0\u001b[39;00m\u001b[39m'\u001b[39m))\n\u001b[0;32m     63\u001b[0m     logger\u001b[39m.\u001b[39merror(exceptionMessage)\n\u001b[1;32m---> 64\u001b[0m     \u001b[39mraise\u001b[39;00m PlaysoundException(exceptionMessage)\n\u001b[0;32m     65\u001b[0m \u001b[39mreturn\u001b[39;00m buf\u001b[39m.\u001b[39mvalue\n",
      "\u001b[1;31mPlaysoundException\u001b[0m: \n    Error 263 for command:\n        open Test.wav\n    The specified device is not open or is not recognized by MCI."
     ]
    }
   ],
   "source": [
    "import playsound\n",
    "\n",
    "def play_alert_sound() :\n",
    "    playsound.playsound(\"Test.wav\")\n",
    "\n",
    "# ตัวอย่างการใช้งาน\n",
    "play_alert_sound()"
   ]
  }
 ],
 "metadata": {
  "kernelspec": {
   "display_name": "Python 3",
   "language": "python",
   "name": "python3"
  },
  "language_info": {
   "codemirror_mode": {
    "name": "ipython",
    "version": 3
   },
   "file_extension": ".py",
   "mimetype": "text/x-python",
   "name": "python",
   "nbconvert_exporter": "python",
   "pygments_lexer": "ipython3",
   "version": "3.9.6"
  },
  "orig_nbformat": 4
 },
 "nbformat": 4,
 "nbformat_minor": 2
}
